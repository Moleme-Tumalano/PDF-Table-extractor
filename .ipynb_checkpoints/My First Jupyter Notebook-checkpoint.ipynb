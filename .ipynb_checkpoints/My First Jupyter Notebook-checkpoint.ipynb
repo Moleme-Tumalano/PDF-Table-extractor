{
 "cells": [
  {
   "cell_type": "markdown",
   "id": "44c519f5",
   "metadata": {},
   "source": [
    "## My first script"
   ]
  },
  {
   "cell_type": "code",
   "execution_count": 1,
   "id": "5d43547c",
   "metadata": {},
   "outputs": [
    {
     "data": {
      "text/plain": [
       "13"
      ]
     },
     "execution_count": 1,
     "metadata": {},
     "output_type": "execute_result"
    }
   ],
   "source": [
    "4 + 9"
   ]
  },
  {
   "cell_type": "code",
   "execution_count": 2,
   "id": "6663f0e0",
   "metadata": {},
   "outputs": [
    {
     "data": {
      "text/plain": [
       "0"
      ]
     },
     "execution_count": 2,
     "metadata": {},
     "output_type": "execute_result"
    }
   ],
   "source": [
    "88 % 2"
   ]
  },
  {
   "cell_type": "code",
   "execution_count": 3,
   "id": "f69a3453",
   "metadata": {},
   "outputs": [
    {
     "data": {
      "text/plain": [
       "8"
      ]
     },
     "execution_count": 3,
     "metadata": {},
     "output_type": "execute_result"
    }
   ],
   "source": [
    "17 - 9"
   ]
  },
  {
   "cell_type": "code",
   "execution_count": null,
   "id": "c089dc84",
   "metadata": {},
   "outputs": [],
   "source": []
  }
 ],
 "metadata": {
  "kernelspec": {
   "display_name": "Python 3 (ipykernel)",
   "language": "python",
   "name": "python3"
  },
  "language_info": {
   "codemirror_mode": {
    "name": "ipython",
    "version": 3
   },
   "file_extension": ".py",
   "mimetype": "text/x-python",
   "name": "python",
   "nbconvert_exporter": "python",
   "pygments_lexer": "ipython3",
   "version": "3.10.5"
  }
 },
 "nbformat": 4,
 "nbformat_minor": 5
}
